{
 "cells": [
  {
   "cell_type": "markdown",
   "metadata": {},
   "source": [
    "#### Exercise 1 - Class Inheritance"
   ]
  },
  {
   "cell_type": "markdown",
   "metadata": {},
   "source": [
    "Create an Employee class that sets an employee's first name, last name, job title, salary, and email. The Employee class should have a class attribute for the raise amount set to 5% (1.05). Create a method that will apply the raise to an employee's salary."
   ]
  },
  {
   "cell_type": "code",
   "execution_count": 25,
   "metadata": {},
   "outputs": [
    {
     "name": "stdout",
     "output_type": "stream",
     "text": [
      "Instantiating an Employee class\n",
      "1000\n"
     ]
    },
    {
     "ename": "NameError",
     "evalue": "name 'self' is not defined",
     "output_type": "error",
     "traceback": [
      "\u001b[0;31m---------------------------------------------------------------------------\u001b[0m",
      "\u001b[0;31mNameError\u001b[0m                                 Traceback (most recent call last)",
      "\u001b[0;32m/var/folders/nq/s16sycy50q38m2shfd4_y8940000gn/T/ipykernel_72287/782596489.py\u001b[0m in \u001b[0;36m<module>\u001b[0;34m\u001b[0m\n\u001b[1;32m     27\u001b[0m \u001b[0mprint\u001b[0m\u001b[0;34m(\u001b[0m\u001b[0memp1\u001b[0m\u001b[0;34m.\u001b[0m\u001b[0msalary\u001b[0m\u001b[0;34m)\u001b[0m\u001b[0;34m\u001b[0m\u001b[0;34m\u001b[0m\u001b[0m\n\u001b[1;32m     28\u001b[0m \u001b[0;34m\u001b[0m\u001b[0m\n\u001b[0;32m---> 29\u001b[0;31m \u001b[0mapply_raise\u001b[0m\u001b[0;34m(\u001b[0m\u001b[0;34m'bill'\u001b[0m\u001b[0;34m,\u001b[0m \u001b[0;34m'masterson'\u001b[0m\u001b[0;34m)\u001b[0m\u001b[0;34m\u001b[0m\u001b[0;34m\u001b[0m\u001b[0m\n\u001b[0m\u001b[1;32m     30\u001b[0m \u001b[0;34m\u001b[0m\u001b[0m\n\u001b[1;32m     31\u001b[0m \u001b[0;34m\u001b[0m\u001b[0m\n",
      "\u001b[0;32m/var/folders/nq/s16sycy50q38m2shfd4_y8940000gn/T/ipykernel_72287/782596489.py\u001b[0m in \u001b[0;36mapply_raise\u001b[0;34m(first, last)\u001b[0m\n\u001b[1;32m     19\u001b[0m \u001b[0;34m\u001b[0m\u001b[0m\n\u001b[1;32m     20\u001b[0m \u001b[0;32mdef\u001b[0m \u001b[0mapply_raise\u001b[0m\u001b[0;34m(\u001b[0m\u001b[0mfirst\u001b[0m\u001b[0;34m,\u001b[0m \u001b[0mlast\u001b[0m\u001b[0;34m)\u001b[0m\u001b[0;34m:\u001b[0m\u001b[0;34m\u001b[0m\u001b[0;34m\u001b[0m\u001b[0m\n\u001b[0;32m---> 21\u001b[0;31m     \u001b[0mself\u001b[0m\u001b[0;34m.\u001b[0m\u001b[0msalary\u001b[0m \u001b[0;34m=\u001b[0m \u001b[0mself\u001b[0m\u001b[0;34m.\u001b[0m\u001b[0msalary\u001b[0m \u001b[0;34m*\u001b[0m \u001b[0mraise_amount\u001b[0m\u001b[0;34m\u001b[0m\u001b[0;34m\u001b[0m\u001b[0m\n\u001b[0m\u001b[1;32m     22\u001b[0m     \u001b[0mprint\u001b[0m\u001b[0;34m(\u001b[0m\u001b[0;34mf\"New salary is {self.salary}\"\u001b[0m\u001b[0;34m,\u001b[0m \u001b[0mself\u001b[0m\u001b[0;34m)\u001b[0m\u001b[0;34m\u001b[0m\u001b[0;34m\u001b[0m\u001b[0m\n\u001b[1;32m     23\u001b[0m \u001b[0;34m\u001b[0m\u001b[0m\n",
      "\u001b[0;31mNameError\u001b[0m: name 'self' is not defined"
     ]
    }
   ],
   "source": [
    "# Create an Employee class that sets an employee's first name, last name, job title, salary, and email. \n",
    "# The Employee class should have a class attribute for the raise amount set to 5% (1.05). \n",
    "# Create a method that will apply the raise to an employee's salary.\n",
    "\n",
    "\n",
    "class Employee:\n",
    "    \n",
    "    def __init__(self, first, last, job, salary):\n",
    "        print('Instantiating an Employee class')\n",
    "        raise_amount = 1.05\n",
    "        self.first = first\n",
    "        self.last = last\n",
    "        self.job = job\n",
    "        self.salary = int(salary)\n",
    "        self.email = f\"{self.first.lower()} + '.' + {self.last.lower()} + '@' + 'happiness.org'\"\n",
    "\n",
    "    def __str__(self):\n",
    "        return f\"{self.first} {self.last}\"\n",
    "    \n",
    "def apply_raise(first, last):\n",
    "    self.salary = self.salary * raise_amount\n",
    "    print(f\"New salary is {self.salary}\", self)\n",
    "\n",
    "emp1 = Employee('bill', 'masterson', 'janitor', 1000)\n",
    "\n",
    "\n",
    "print(emp1.salary)\n",
    "\n",
    "apply_raise('bill', 'masterson')\n",
    "\n",
    "\n",
    "\n",
    "\n",
    "\n"
   ]
  },
  {
   "cell_type": "markdown",
   "metadata": {},
   "source": [
    "Create two more classes that inherit from the Employee class. One for Sales and one for Development. Both of these classes will have the same attributes as the Employee.<br>\n",
    "- For the Sales employees, add a phone number attribute on instantiation using the super method. \n",
    "- Create a method on the Sales class that will Send a Follow Up Email. It should take in a customer name and \"send\" aka print a formatted email \"Dear *customer*, Thank you for your interest in our product. Please let me know if you have any questions. My email is *email* or my phone number is *phone number*. Thanks, *full name*\"\n",
    "- Create a method on the Development class called code that will print out \"*full name* is writing code\"."
   ]
  },
  {
   "cell_type": "code",
   "execution_count": 41,
   "metadata": {},
   "outputs": [],
   "source": [
    "        \n",
    "class Sales(Employee):\n",
    "    \n",
    "    def __init__(self, first, last, job, salary, phone):\n",
    "        super().__init__(first, last, job, salary, phone)\n",
    "\n",
    "        \n",
    "class Development(Employee):\n",
    "    \n",
    "    def __init__(self, first, last, job, salary, phone):\n",
    "        super().__init__(first, last, job, salary)\n",
    "\n",
    "    \n",
    "    def code(self):\n",
    "        print(f\"{first} {last} is writing code.,\")"
   ]
  },
  {
   "cell_type": "markdown",
   "metadata": {},
   "source": [
    "- Create an instance of a Sales Employee with a salary of $50,000.\n",
    "- Send follow up emails to \"Mike O'Neil\" and \"Hannah Stern\"\n",
    "- Give the employee a raise and print the salary"
   ]
  },
  {
   "cell_type": "code",
   "execution_count": 39,
   "metadata": {},
   "outputs": [
    {
     "name": "stdout",
     "output_type": "stream",
     "text": [
      "Instantiating an Employee class\n",
      "Bob Franken\n"
     ]
    },
    {
     "ename": "AttributeError",
     "evalue": "'Sales' object has no attribute 'phone'",
     "output_type": "error",
     "traceback": [
      "\u001b[0;31m---------------------------------------------------------------------------\u001b[0m",
      "\u001b[0;31mAttributeError\u001b[0m                            Traceback (most recent call last)",
      "\u001b[0;32m/var/folders/nq/s16sycy50q38m2shfd4_y8940000gn/T/ipykernel_72287/491522100.py\u001b[0m in \u001b[0;36m<module>\u001b[0;34m\u001b[0m\n\u001b[1;32m     12\u001b[0m \u001b[0;34m\u001b[0m\u001b[0m\n\u001b[1;32m     13\u001b[0m \u001b[0mprint\u001b[0m\u001b[0;34m(\u001b[0m\u001b[0memp2\u001b[0m\u001b[0;34m)\u001b[0m\u001b[0;34m\u001b[0m\u001b[0;34m\u001b[0m\u001b[0m\n\u001b[0;32m---> 14\u001b[0;31m \u001b[0mfollow_up\u001b[0m\u001b[0;34m(\u001b[0m\u001b[0memp2\u001b[0m\u001b[0;34m)\u001b[0m\u001b[0;34m\u001b[0m\u001b[0;34m\u001b[0m\u001b[0m\n\u001b[0m\u001b[1;32m     15\u001b[0m \u001b[0;34m\u001b[0m\u001b[0m\n\u001b[1;32m     16\u001b[0m \u001b[0mapply_raise\u001b[0m\u001b[0;34m(\u001b[0m\u001b[0;34m'bob'\u001b[0m\u001b[0;34m,\u001b[0m \u001b[0;34m'franken'\u001b[0m\u001b[0;34m)\u001b[0m\u001b[0;34m\u001b[0m\u001b[0;34m\u001b[0m\u001b[0m\n",
      "\u001b[0;32m/var/folders/nq/s16sycy50q38m2shfd4_y8940000gn/T/ipykernel_72287/491522100.py\u001b[0m in \u001b[0;36mfollow_up\u001b[0;34m(self)\u001b[0m\n\u001b[1;32m      6\u001b[0m \u001b[0;32mdef\u001b[0m \u001b[0mfollow_up\u001b[0m\u001b[0;34m(\u001b[0m\u001b[0mself\u001b[0m\u001b[0;34m)\u001b[0m\u001b[0;34m:\u001b[0m\u001b[0;34m\u001b[0m\u001b[0;34m\u001b[0m\u001b[0m\n\u001b[1;32m      7\u001b[0m     print(f\"\"\"\n\u001b[0;32m----> 8\u001b[0;31m           \u001b[0mDear\u001b[0m \u001b[0mcustomer\u001b[0m\u001b[0;34m,\u001b[0m \u001b[0mThank\u001b[0m \u001b[0myou\u001b[0m \u001b[0;32mfor\u001b[0m \u001b[0myour\u001b[0m \u001b[0minterest\u001b[0m \u001b[0;32min\u001b[0m \u001b[0mour\u001b[0m \u001b[0mproduct\u001b[0m\u001b[0;34m.\u001b[0m \u001b[0mPlease\u001b[0m \u001b[0mlet\u001b[0m \u001b[0mme\u001b[0m \u001b[0mknow\u001b[0m \u001b[0;32mif\u001b[0m \u001b[0myou\u001b[0m \u001b[0mhave\u001b[0m \u001b[0many\u001b[0m \u001b[0mquestions\u001b[0m\u001b[0;34m.\u001b[0m \u001b[0mMy\u001b[0m \u001b[0memail\u001b[0m \u001b[0;32mis\u001b[0m \u001b[0;34m{\u001b[0m\u001b[0mself\u001b[0m\u001b[0;34m.\u001b[0m\u001b[0memail\u001b[0m\u001b[0;34m}\u001b[0m \u001b[0;32mor\u001b[0m \u001b[0mmy\u001b[0m \u001b[0mphone\u001b[0m \u001b[0mnumber\u001b[0m \u001b[0;32mis\u001b[0m \u001b[0;34m{\u001b[0m\u001b[0mself\u001b[0m\u001b[0;34m.\u001b[0m\u001b[0mphone\u001b[0m\u001b[0;34m}\u001b[0m\u001b[0;34m.\u001b[0m \u001b[0mThanks\u001b[0m\u001b[0;34m,\u001b[0m \u001b[0;34m{\u001b[0m\u001b[0mself\u001b[0m\u001b[0;34m.\u001b[0m\u001b[0mfirst\u001b[0m\u001b[0;34m}\u001b[0m \u001b[0;34m{\u001b[0m\u001b[0mself\u001b[0m\u001b[0;34m.\u001b[0m\u001b[0mlast\u001b[0m\u001b[0;34m}\u001b[0m\u001b[0;31m\"\u001b[0m\u001b[0;34m\u001b[0m\u001b[0;34m\u001b[0m\u001b[0m\n\u001b[0m\u001b[1;32m      9\u001b[0m           \"\"\")\n\u001b[1;32m     10\u001b[0m \u001b[0;34m\u001b[0m\u001b[0m\n",
      "\u001b[0;31mAttributeError\u001b[0m: 'Sales' object has no attribute 'phone'"
     ]
    }
   ],
   "source": [
    "\n",
    "def follow_up(self):\n",
    "    print(f\"\"\"\n",
    "          Dear Mike O'Neil, Thank you for your interest in our product. Please let me know if you have any questions. My email is {self.email} or my phone number is {self.phone}. Thanks, {self.first} {self.last}\"\n",
    "          \"\"\")\n",
    "\n",
    "emp2 = Sales('Bob', 'Franken', 'accountant', 2000, 5555555)\n",
    "\n",
    "print(emp2) \n",
    "follow_up(emp2)\n",
    "\n",
    "apply_raise('bob', 'franken')"
   ]
  },
  {
   "cell_type": "markdown",
   "metadata": {},
   "source": [
    "- Create an instance of a Development Employee with a salary of $100,000\n",
    "- Write some code with this employee\n",
    "- Give the employee a raise and print the salary"
   ]
  },
  {
   "cell_type": "code",
   "execution_count": 38,
   "metadata": {},
   "outputs": [
    {
     "name": "stdout",
     "output_type": "stream",
     "text": [
      "Instantiating an Employee class\n",
      "Alex Pipkin\n"
     ]
    },
    {
     "ename": "AttributeError",
     "evalue": "'Development' object has no attribute 'phone'",
     "output_type": "error",
     "traceback": [
      "\u001b[0;31m---------------------------------------------------------------------------\u001b[0m",
      "\u001b[0;31mAttributeError\u001b[0m                            Traceback (most recent call last)",
      "\u001b[0;32m/var/folders/nq/s16sycy50q38m2shfd4_y8940000gn/T/ipykernel_72287/3507832111.py\u001b[0m in \u001b[0;36m<module>\u001b[0;34m\u001b[0m\n\u001b[1;32m     12\u001b[0m \u001b[0;34m\u001b[0m\u001b[0m\n\u001b[1;32m     13\u001b[0m \u001b[0mprint\u001b[0m\u001b[0;34m(\u001b[0m\u001b[0memp3\u001b[0m\u001b[0;34m)\u001b[0m\u001b[0;34m\u001b[0m\u001b[0;34m\u001b[0m\u001b[0m\n\u001b[0;32m---> 14\u001b[0;31m \u001b[0mfollow_up\u001b[0m\u001b[0;34m(\u001b[0m\u001b[0memp3\u001b[0m\u001b[0;34m)\u001b[0m\u001b[0;34m\u001b[0m\u001b[0;34m\u001b[0m\u001b[0m\n\u001b[0m\u001b[1;32m     15\u001b[0m \u001b[0;34m\u001b[0m\u001b[0m\n\u001b[1;32m     16\u001b[0m \u001b[0mapply_raise\u001b[0m\u001b[0;34m(\u001b[0m\u001b[0;34m'alex'\u001b[0m\u001b[0;34m,\u001b[0m \u001b[0;34m'pipkin'\u001b[0m\u001b[0;34m)\u001b[0m\u001b[0;34m\u001b[0m\u001b[0;34m\u001b[0m\u001b[0m\n",
      "\u001b[0;32m/var/folders/nq/s16sycy50q38m2shfd4_y8940000gn/T/ipykernel_72287/3507832111.py\u001b[0m in \u001b[0;36mfollow_up\u001b[0;34m(self)\u001b[0m\n\u001b[1;32m      6\u001b[0m \u001b[0;32mdef\u001b[0m \u001b[0mfollow_up\u001b[0m\u001b[0;34m(\u001b[0m\u001b[0mself\u001b[0m\u001b[0;34m)\u001b[0m\u001b[0;34m:\u001b[0m\u001b[0;34m\u001b[0m\u001b[0;34m\u001b[0m\u001b[0m\n\u001b[1;32m      7\u001b[0m     print(f\"\"\"\n\u001b[0;32m----> 8\u001b[0;31m           \u001b[0mDear\u001b[0m \u001b[0mcustomer\u001b[0m\u001b[0;34m,\u001b[0m \u001b[0mThank\u001b[0m \u001b[0myou\u001b[0m \u001b[0;32mfor\u001b[0m \u001b[0myour\u001b[0m \u001b[0minterest\u001b[0m \u001b[0;32min\u001b[0m \u001b[0mour\u001b[0m \u001b[0mproduct\u001b[0m\u001b[0;34m.\u001b[0m \u001b[0mPlease\u001b[0m \u001b[0mlet\u001b[0m \u001b[0mme\u001b[0m \u001b[0mknow\u001b[0m \u001b[0;32mif\u001b[0m \u001b[0myou\u001b[0m \u001b[0mhave\u001b[0m \u001b[0many\u001b[0m \u001b[0mquestions\u001b[0m\u001b[0;34m.\u001b[0m \u001b[0mMy\u001b[0m \u001b[0memail\u001b[0m \u001b[0;32mis\u001b[0m \u001b[0;34m{\u001b[0m\u001b[0mself\u001b[0m\u001b[0;34m.\u001b[0m\u001b[0memail\u001b[0m\u001b[0;34m}\u001b[0m \u001b[0;32mor\u001b[0m \u001b[0mmy\u001b[0m \u001b[0mphone\u001b[0m \u001b[0mnumber\u001b[0m \u001b[0;32mis\u001b[0m \u001b[0;34m{\u001b[0m\u001b[0mself\u001b[0m\u001b[0;34m.\u001b[0m\u001b[0mphone\u001b[0m\u001b[0;34m}\u001b[0m\u001b[0;34m.\u001b[0m \u001b[0mThanks\u001b[0m\u001b[0;34m,\u001b[0m \u001b[0;34m{\u001b[0m\u001b[0mself\u001b[0m\u001b[0;34m.\u001b[0m\u001b[0mfirst\u001b[0m\u001b[0;34m}\u001b[0m \u001b[0;34m{\u001b[0m\u001b[0mself\u001b[0m\u001b[0;34m.\u001b[0m\u001b[0mlast\u001b[0m\u001b[0;34m}\u001b[0m\u001b[0;31m\"\u001b[0m\u001b[0;34m\u001b[0m\u001b[0;34m\u001b[0m\u001b[0m\n\u001b[0m\u001b[1;32m      9\u001b[0m           \"\"\")\n\u001b[1;32m     10\u001b[0m \u001b[0;34m\u001b[0m\u001b[0m\n",
      "\u001b[0;31mAttributeError\u001b[0m: 'Development' object has no attribute 'phone'"
     ]
    }
   ],
   "source": [
    "\n",
    "def follow_up(self):\n",
    "    print(f\"\"\"\n",
    "          Dear customer, Thank you for your interest in our product. Please let me know if you have any questions. My email is {self.email} or my phone number is {self.phone}. Thanks, {self.first} {self.last}\"\n",
    "          \"\"\")\n",
    "\n",
    "emp3 = Development('Alex', 'Pipkin', 'engineer', 100000, 4444444)\n",
    "\n",
    "print(emp3) \n",
    "follow_up(emp3)\n",
    "\n",
    "apply_raise('alex', 'pipkin')\n",
    "\n"
   ]
  },
  {
   "cell_type": "markdown",
   "metadata": {},
   "source": [
    "#### Exercise 2 - Importing Modules"
   ]
  },
  {
   "cell_type": "markdown",
   "metadata": {},
   "source": [
    "In VS Code, create a module titled `geometry` and add two functions in there. One that will calculate the area of a circle given a radius. The second will find the hypotenuse of a right angle given the two sides. Import the module or the functions from the module and use it to find the answers to the below questions"
   ]
  },
  {
   "cell_type": "markdown",
   "metadata": {},
   "source": [
    "What is the area of a circle with a radius of 7cm?"
   ]
  },
  {
   "cell_type": "code",
   "execution_count": 47,
   "metadata": {},
   "outputs": [
    {
     "data": {
      "text/plain": [
       "50.26548245743669"
      ]
     },
     "execution_count": 47,
     "metadata": {},
     "output_type": "execute_result"
    }
   ],
   "source": [
    "import geometry\n",
    "\n",
    "radius = 4\n",
    "\n",
    "geometry.circle_area(radius)"
   ]
  },
  {
   "cell_type": "markdown",
   "metadata": {},
   "source": [
    "What is the hypotenuse of a right angle with sides of 3in and 4in?"
   ]
  },
  {
   "cell_type": "code",
   "execution_count": 49,
   "metadata": {},
   "outputs": [
    {
     "ename": "AttributeError",
     "evalue": "module 'geometry' has no attribute 'hypotenuse'",
     "output_type": "error",
     "traceback": [
      "\u001b[0;31m---------------------------------------------------------------------------\u001b[0m",
      "\u001b[0;31mAttributeError\u001b[0m                            Traceback (most recent call last)",
      "\u001b[0;32m/var/folders/nq/s16sycy50q38m2shfd4_y8940000gn/T/ipykernel_72287/99016931.py\u001b[0m in \u001b[0;36m<module>\u001b[0;34m\u001b[0m\n\u001b[1;32m      4\u001b[0m \u001b[0mside2\u001b[0m \u001b[0;34m=\u001b[0m \u001b[0;36m4\u001b[0m\u001b[0;34m\u001b[0m\u001b[0;34m\u001b[0m\u001b[0m\n\u001b[1;32m      5\u001b[0m \u001b[0;34m\u001b[0m\u001b[0m\n\u001b[0;32m----> 6\u001b[0;31m \u001b[0mgeometry\u001b[0m\u001b[0;34m.\u001b[0m\u001b[0mhypotenuse\u001b[0m\u001b[0;34m(\u001b[0m\u001b[0;36m3\u001b[0m\u001b[0;34m,\u001b[0m \u001b[0;36m4\u001b[0m\u001b[0;34m)\u001b[0m\u001b[0;34m\u001b[0m\u001b[0;34m\u001b[0m\u001b[0m\n\u001b[0m",
      "\u001b[0;31mAttributeError\u001b[0m: module 'geometry' has no attribute 'hypotenuse'"
     ]
    }
   ],
   "source": [
    "import geometry\n",
    "\n",
    "side1 = 3\n",
    "side2 = 4\n",
    "\n",
    "geometry.hypotenuse(3, 4)"
   ]
  }
 ],
 "metadata": {
  "kernelspec": {
   "display_name": "Python 3 (ipykernel)",
   "language": "python",
   "name": "python3"
  },
  "language_info": {
   "codemirror_mode": {
    "name": "ipython",
    "version": 3
   },
   "file_extension": ".py",
   "mimetype": "text/x-python",
   "name": "python",
   "nbconvert_exporter": "python",
   "pygments_lexer": "ipython3",
   "version": "3.9.7"
  }
 },
 "nbformat": 4,
 "nbformat_minor": 4
}
